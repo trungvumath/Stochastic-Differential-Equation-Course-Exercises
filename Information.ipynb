{
  "nbformat": 4,
  "nbformat_minor": 0,
  "metadata": {
    "celltoolbar": "Raw Cell Format",
    "kernelspec": {
      "display_name": "Python 3",
      "language": "python",
      "name": "python3"
    },
    "language_info": {
      "codemirror_mode": {
        "name": "ipython",
        "version": 3
      },
      "file_extension": ".py",
      "mimetype": "text/x-python",
      "name": "python",
      "nbconvert_exporter": "python",
      "pygments_lexer": "ipython3",
      "version": "3.7.3"
    },
    "colab": {
      "provenance": [],
      "include_colab_link": true
    }
  },
  "cells": [
    {
      "cell_type": "markdown",
      "metadata": {
        "id": "view-in-github",
        "colab_type": "text"
      },
      "source": [
        "<a href=\"https://colab.research.google.com/github/trungvumath/Stochastic-Differential-Equation-Course-Exercises/blob/main/Information.ipynb\" target=\"_parent\"><img src=\"https://colab.research.google.com/assets/colab-badge.svg\" alt=\"Open In Colab\"/></a>"
      ]
    },
    {
      "cell_type": "markdown",
      "metadata": {
        "id": "kj2CpetkeU0-"
      },
      "source": [
        "<img src=\"https://news.illinois.edu/files/6367/543635/116641.jpg\" alt=\"University of Illinois\" width=\"250\"/>\n",
        "\n",
        "# HW: Stochastics\n",
        "\n",
        "### due 2024-02-05 ###\n",
        "\n",
        "HW submission by group (up to 4 people)\n",
        "* Yi Yan <yiyan4@illinois.edu>\n",
        "* Hanzhi Wang <hw66@illinois.edu>\n",
        "* Zhengdao Lyu <zlv5@illinois.edu>\n",
        "* Joshua Kendrick <joshua39@illinois.edu>\n",
        "* Trung Vu <hvu@illinois.edu>\n"
      ]
    },
    {
      "cell_type": "markdown",
      "metadata": {
        "id": "Z8vUR0i1eU1Y"
      },
      "source": [
        "## imports and graphics configurations"
      ]
    },
    {
      "cell_type": "code",
      "metadata": {
        "id": "RFQo5jJzeU1c"
      },
      "source": [
        "import numpy\n",
        "import pandas\n",
        "import time\n",
        "import random\n",
        "import matplotlib\n",
        "#%matplotlib notebook\n",
        "import matplotlib.pyplot as plt\n",
        "import scipy.stats\n",
        "import matplotlib.offsetbox as offsetbox\n",
        "from matplotlib.ticker import StrMethodFormatter"
      ],
      "execution_count": null,
      "outputs": []
    },
    {
      "cell_type": "code",
      "metadata": {
        "id": "Bg6T34ldeU1f"
      },
      "source": [
        "#for some reason, this needs to be in a separate cell\n",
        "params={\n",
        "    \"font.size\":15,\n",
        "    \"lines.linewidth\":5,\n",
        "}\n",
        "plt.rcParams.update(params)"
      ],
      "execution_count": null,
      "outputs": []
    },
    {
      "cell_type": "markdown",
      "metadata": {
        "id": "l2S4qkokeU13"
      },
      "source": [
        "# **Information** #"
      ]
    },
    {
      "cell_type": "markdown",
      "metadata": {
        "id": "j8jQ4hFReU14"
      },
      "source": [
        "**Conditional Law:** By simulation, compute\n",
        "* $\\frac{1}{0.01}P\\{W_5>6|2<W_3<2.01\\}$\n",
        "* $\\frac{1}{0.01}P\\{W_5>6|2<W_3<2.01, W_2<1.8\\}$"
      ]
    },
    {
      "cell_type": "code",
      "source": [
        "import numpy as np\n",
        "\n",
        "np.random.seed(0)\n",
        "N = 10000000\n",
        "\n",
        "# Simulate Wiener process increments\n",
        "W2 = np.random.normal(0, np.sqrt(2), N)\n",
        "W3 = W2 + np.random.normal(0, np.sqrt(1), N)\n",
        "W5 = W3 + np.random.normal(0, np.sqrt(2), N)\n",
        "\n",
        "# 1. P(W5 > 6 | 2 < W3 < 2.01)\n",
        "condition1 = (2 < W3) & (W3 < 2.01)\n",
        "prob1 = np.mean(W5[condition1] > 6)\n",
        "\n",
        "# 2. P(W5 > 6 | 2 < W3 < 2.01, W2 < 1.8)\n",
        "condition2 = condition1 & (W2 < 1.8)\n",
        "prob2 = np.mean(W5[condition2] > 6)\n",
        "\n",
        "scaled_prob1 = prob1 / 0.01\n",
        "scaled_prob2 = prob2 / 0.01\n",
        "print(scaled_prob1)\n",
        "print(scaled_prob2)"
      ],
      "metadata": {
        "colab": {
          "base_uri": "https://localhost:8080/"
        },
        "id": "6CSpZ7RjPvWn",
        "outputId": "0f9de38d-c297-41a1-bf57-2ae83abffa22"
      },
      "execution_count": null,
      "outputs": [
        {
          "output_type": "stream",
          "name": "stdout",
          "text": [
            "0.1819083843228047\n",
            "0.1508820798514392\n"
          ]
        }
      ]
    },
    {
      "cell_type": "code",
      "source": [
        "condi"
      ],
      "metadata": {
        "id": "Mq_ps4oPY2lN"
      },
      "execution_count": null,
      "outputs": []
    }
  ]
}